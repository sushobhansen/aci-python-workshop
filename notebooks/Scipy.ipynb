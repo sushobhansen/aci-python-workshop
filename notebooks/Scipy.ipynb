{
 "cells": [
  {
   "cell_type": "markdown",
   "metadata": {},
   "source": [
    "## Curve Fitting"
   ]
  },
  {
   "cell_type": "code",
   "execution_count": null,
   "metadata": {},
   "outputs": [],
   "source": [
    "import numpy as np\n",
    "import matplotlib.pyplot as plt\n",
    "from scipy.optimize import curve_fit\n",
    "\n",
    "def idf(t,a,n,c):\n",
    "    '''\n",
    "    Chow et al IDF relationship\n",
    "    '''\n",
    "    return a/(t+c)**n\n",
    "\n",
    "#Get data\n",
    "data = np.loadtxt('../data/idf.csv',skiprows=1,dtype=np.float,delimiter=',')\n",
    "period = data[0,1:] #return period in years\n",
    "duration = data[1:,0] #duration in hr\n",
    "intensity = data[1:,1:] #intensity in in/hr\n",
    "\n",
    "#Fit curves\n",
    "popt = [] #optimized parameters\n",
    "pcov = [] #covariance matrices\n",
    "\n",
    "for i in range(len(period)):\n",
    "    p = curve_fit(idf,duration,intensity[:,i])\n",
    "    popt.append(p[0])\n",
    "    pcov.append(p[1])\n",
    "    \n",
    "    plt.loglog(duration,idf(duration,p[0][0],p[0][1],p[0][2]),label=str(int(period[i]))+' yr')\n",
    "\n",
    "plt.xlabel('Duration (hours)')\n",
    "plt.ylabel('Intensity (in/hr)')\n",
    "plt.title('IDF curves for Champaign, IL')\n",
    "plt.grid(which='both',linestyle='--')\n",
    "plt.legend()\n",
    "plt.show()"
   ]
  },
  {
   "cell_type": "markdown",
   "metadata": {},
   "source": [
    "## Image Processing"
   ]
  },
  {
   "cell_type": "code",
   "execution_count": null,
   "metadata": {},
   "outputs": [],
   "source": [
    "from scipy.ndimage import gaussian_filter, rotate, sobel\n",
    "\n",
    "img = plt.imread('../data/otter.png')\n",
    "plt.subplot(2,2,1)\n",
    "plt.imshow(img,cmap='gray')\n",
    "plt.axis('off')\n",
    "\n",
    "img_rotate = rotate(img,angle=10)\n",
    "plt.subplot(2,2,2)\n",
    "plt.imshow(img_rotate,cmap='gray')\n",
    "plt.axis('off')\n",
    "\n",
    "img_filter = gaussian_filter(img_rotate,sigma=3)\n",
    "img_sharp = img_rotate + 30.*(img_rotate-img_filter)\n",
    "plt.subplot(2,2,3)\n",
    "plt.imshow(img_sharp,cmap='gray')\n",
    "plt.axis('off')\n",
    "\n",
    "sx = sobel(img_sharp, axis=0)\n",
    "sy = sobel(img_sharp, axis=1)\n",
    "img_sobel = np.hypot(sx,sy)\n",
    "plt.subplot(2,2,4)\n",
    "plt.imshow(img_sobel,cmap='gray')\n",
    "plt.axis('off')\n",
    "\n",
    "plt.show()"
   ]
  },
  {
   "cell_type": "markdown",
   "metadata": {},
   "source": [
    "## Fast Fourier Transform"
   ]
  },
  {
   "cell_type": "code",
   "execution_count": null,
   "metadata": {},
   "outputs": [],
   "source": [
    "from scipy.fftpack import fft\n",
    "t,sig = np.loadtxt('../data/cat.csv',unpack=True,skiprows=1,dtype=np.float,delimiter=',')\n",
    "\n",
    "plt.subplot(2,1,1)\n",
    "plt.plot(t,sig)\n",
    "plt.xlabel('Time (s)')\n",
    "plt.ylabel('Amplitude')\n",
    "\n",
    "spec = fft(sig)\n",
    "T = t[1]-t[0]\n",
    "N = sig.size\n",
    "freq = np.linspace(0,1.0/T,N)\n",
    "plt.subplot(2,1,2)\n",
    "plt.plot(freq[:N//2]/1000.,np.abs(spec)[:N//2]*1.0/np.max(np.abs(spec)))\n",
    "plt.xlabel('Frequency (kHz)')\n",
    "plt.ylabel('Power')\n",
    "plt.grid()\n",
    "\n",
    "plt.show()"
   ]
  },
  {
   "cell_type": "code",
   "execution_count": null,
   "metadata": {},
   "outputs": [],
   "source": []
  }
 ],
 "metadata": {
  "kernelspec": {
   "display_name": "Python 3",
   "language": "python",
   "name": "python3"
  },
  "language_info": {
   "codemirror_mode": {
    "name": "ipython",
    "version": 3
   },
   "file_extension": ".py",
   "mimetype": "text/x-python",
   "name": "python",
   "nbconvert_exporter": "python",
   "pygments_lexer": "ipython3",
   "version": "3.6.10"
  }
 },
 "nbformat": 4,
 "nbformat_minor": 2
}
