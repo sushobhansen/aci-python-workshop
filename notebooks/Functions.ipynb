{
 "cells": [
  {
   "cell_type": "markdown",
   "metadata": {},
   "source": [
    "## Printing Function"
   ]
  },
  {
   "cell_type": "code",
   "execution_count": null,
   "metadata": {},
   "outputs": [],
   "source": [
    "def print_input(x):\n",
    "    print(x)\n",
    "\n",
    "k = 'Hello'\n",
    "print_input(k)\n",
    "\n",
    "j = 'How are you'\n",
    "print_input(j)\n",
    "\n",
    "x = 'I am good'\n",
    "print_input(x)"
   ]
  },
  {
   "cell_type": "markdown",
   "metadata": {},
   "source": [
    "## Add 5 to a list"
   ]
  },
  {
   "cell_type": "code",
   "execution_count": null,
   "metadata": {},
   "outputs": [],
   "source": [
    "def add5(x):\n",
    "    y = []\n",
    "    for i in x:\n",
    "        y.append(i+5)\n",
    "    return y\n",
    "\n",
    "a = ['one','two']\n",
    "b = add5(a)\n",
    "print(b)"
   ]
  },
  {
   "cell_type": "markdown",
   "metadata": {},
   "source": [
    "## Solve a system of linear eqs in two variables"
   ]
  },
  {
   "cell_type": "code",
   "execution_count": null,
   "metadata": {},
   "outputs": [],
   "source": [
    "def solve_eqs(a,b,c,d,e,f):\n",
    "    if (a*d-b*c)==0:\n",
    "        return 'Error'\n",
    "    x = (d*e-b*f)/(a*d-b*c)\n",
    "    y = (a*f-c*e)/(a*d-b*c)\n",
    "    return (x,y)\n",
    "\n",
    "a = solve_eqs(3.2,3.2,7.8,7.8,1.3,2.4)\n",
    "print(a)"
   ]
  },
  {
   "cell_type": "markdown",
   "metadata": {},
   "source": [
    "## Default args"
   ]
  },
  {
   "cell_type": "code",
   "execution_count": null,
   "metadata": {},
   "outputs": [],
   "source": [
    "def addnumber(x,n=5):\n",
    "    y = []\n",
    "    for i in x:\n",
    "        y.append(i+n)\n",
    "    return y\n",
    "\n",
    "a = range(3)\n",
    "print(addnumber(a))\n",
    "print(addnumber(a,n=2))"
   ]
  },
  {
   "cell_type": "code",
   "execution_count": null,
   "metadata": {
    "collapsed": true
   },
   "outputs": [],
   "source": []
  }
 ],
 "metadata": {
  "kernelspec": {
   "display_name": "Python 3",
   "language": "python",
   "name": "python3"
  },
  "language_info": {
   "codemirror_mode": {
    "name": "ipython",
    "version": 3
   },
   "file_extension": ".py",
   "mimetype": "text/x-python",
   "name": "python",
   "nbconvert_exporter": "python",
   "pygments_lexer": "ipython3",
   "version": "3.6.7"
  }
 },
 "nbformat": 4,
 "nbformat_minor": 2
}
