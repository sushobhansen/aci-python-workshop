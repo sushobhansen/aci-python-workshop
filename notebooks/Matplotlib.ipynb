{
 "cells": [
  {
   "cell_type": "markdown",
   "metadata": {},
   "source": [
    "## Plotting 1D Data - Bar Plot"
   ]
  },
  {
   "cell_type": "code",
   "execution_count": null,
   "metadata": {},
   "outputs": [],
   "source": [
    "%matplotlib inline\n",
    "import numpy as np\n",
    "from matplotlib import pyplot as plt\n",
    "\n",
    "barnumber = np.arange(4)+1\n",
    "barheight= np.random.uniform(5.0,10.0,(4,))\n",
    "\n",
    "plt.bar(barnumber,barheight)\n",
    "plt.xlabel('Bar Number')\n",
    "plt.ylabel('Bar Height')\n",
    "plt.title('Random Bar Heights')\n",
    "plt.ylim([0,10])\n",
    "plt.xticks(barnumber)\n",
    "plt.show()"
   ]
  },
  {
   "cell_type": "markdown",
   "metadata": {},
   "source": [
    "## Plotting 2D data - line plot"
   ]
  },
  {
   "cell_type": "code",
   "execution_count": null,
   "metadata": {},
   "outputs": [],
   "source": [
    "x = np.linspace(0,360,1000)\n",
    "y = (np.sin(x*np.pi/180.) + np.cos(x*np.pi/180.))/2.0\n",
    "plt.plot(x,y)\n",
    "plt.grid()\n",
    "plt.xlabel('x (degrees)')\n",
    "plt.ylabel('f(x)')\n",
    "plt.show()"
   ]
  },
  {
   "cell_type": "markdown",
   "metadata": {},
   "source": [
    "## Plotting 2D data - logarithmic graph"
   ]
  },
  {
   "cell_type": "code",
   "execution_count": null,
   "metadata": {},
   "outputs": [],
   "source": [
    "x = np.linspace(0.,2.,1000)\n",
    "y1 = np.exp(-x)\n",
    "y2 = np.exp(-2.0*x)\n",
    "\n",
    "plt.semilogy(x,y1,label='$e^{-x}$')\n",
    "plt.semilogy(x,y2,label='$e^{-2x}$')\n",
    "plt.xlabel('x')\n",
    "plt.ylabel('f(x)')\n",
    "plt.legend()\n",
    "plt.grid(which='both')\n",
    "plt.show()"
   ]
  },
  {
   "cell_type": "markdown",
   "metadata": {},
   "source": [
    "## Plotting 2D data - external data file"
   ]
  },
  {
   "cell_type": "code",
   "execution_count": null,
   "metadata": {},
   "outputs": [],
   "source": [
    "hour,temperature,precip_prob = np.loadtxt('../data/weather.csv',dtype=np.float,delimiter=',',skiprows=1,unpack=True)\n",
    "\n",
    "plt.subplot(1,2,1)\n",
    "plt.plot(hour,temperature)\n",
    "plt.xlabel('Hour')\n",
    "plt.ylabel('Temperature ($^o$F)')\n",
    "plt.title('Temperature')\n",
    "\n",
    "plt.subplot(1,2,2)\n",
    "plt.bar(hour,precip_prob)\n",
    "plt.xlabel('Hour')\n",
    "plt.ylabel('Probability (%)')\n",
    "plt.title('Probability of Precipitation')\n",
    "plt.show()"
   ]
  },
  {
   "cell_type": "markdown",
   "metadata": {},
   "source": [
    "## Plotting 3D data - full 3D plot"
   ]
  },
  {
   "cell_type": "code",
   "execution_count": null,
   "metadata": {},
   "outputs": [],
   "source": [
    "from mpl_toolkits import mplot3d\n",
    "\n",
    "x = np.linspace(-6,6,100)\n",
    "y = np.linspace(-6,6,100)\n",
    "\n",
    "X,Y = np.meshgrid(x,y)\n",
    "Z = np.sin(np.sqrt(X**2+Y**2))\n",
    "\n",
    "fig = plt.figure()\n",
    "ax = plt.axes(projection='3d')\n",
    "\n",
    "ax.contour3D(X, Y, Z, 50, cmap='spring')\n",
    "ax.set_xlabel('x')\n",
    "ax.set_ylabel('y')\n",
    "ax.set_zlabel('f(x,y)')\n",
    "plt.show()"
   ]
  },
  {
   "cell_type": "markdown",
   "metadata": {},
   "source": [
    "## Plotting 3D data - contour file"
   ]
  },
  {
   "cell_type": "code",
   "execution_count": null,
   "metadata": {},
   "outputs": [],
   "source": [
    "plt.contourf(X,Y,Z,50,cmap='spring')\n",
    "plt.xlabel('x')\n",
    "plt.ylabel('y')\n",
    "plt.colorbar(label='f(x,y)')\n",
    "plt.show()"
   ]
  },
  {
   "cell_type": "code",
   "execution_count": null,
   "metadata": {
    "collapsed": true
   },
   "outputs": [],
   "source": []
  }
 ],
 "metadata": {
  "kernelspec": {
   "display_name": "Python 3",
   "language": "python",
   "name": "python3"
  },
  "language_info": {
   "codemirror_mode": {
    "name": "ipython",
    "version": 3
   },
   "file_extension": ".py",
   "mimetype": "text/x-python",
   "name": "python",
   "nbconvert_exporter": "python",
   "pygments_lexer": "ipython3",
   "version": "3.6.7"
  }
 },
 "nbformat": 4,
 "nbformat_minor": 2
}
