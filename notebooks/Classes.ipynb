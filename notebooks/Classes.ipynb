{
 "cells": [
  {
   "cell_type": "code",
   "execution_count": null,
   "metadata": {},
   "outputs": [],
   "source": [
    "class Person:   \n",
    "    #Constructor\n",
    "    def __init__(self,name,age,height_cm):\n",
    "        self.name = name\n",
    "        self.age = age\n",
    "        self.height_cm = height_cm #in centimeters\n",
    "    \n",
    "    def print_name(self):\n",
    "        print(self.name)\n",
    "    \n",
    "    def print_age(self):\n",
    "        print(self.age)\n",
    "    \n",
    "    def print_height_cm(self):\n",
    "        print(self.height_cm)\n",
    "    \n",
    "    def height_ftin(self):\n",
    "        inches = self.height_cm/2.54\n",
    "        feet = inches//12\n",
    "        inches = inches%12\n",
    "        return feet,inches\n",
    "\n",
    "adam = Person('Adam Levine',38,190)\n",
    "adam.print_name()\n",
    "adam.print_age()\n",
    "adam.print_height_cm()\n",
    "\n",
    "feet,inches = adam.height_ftin()\n",
    "print('Height is ',feet,' ft and ',\n",
    "      \"{:.1f}\".format(inches),' in')"
   ]
  },
  {
   "cell_type": "code",
   "execution_count": null,
   "metadata": {
    "collapsed": true
   },
   "outputs": [],
   "source": [
    "class Student(Person):\n",
    "    def __init__(self,name,age,height_cm,GPA,level):\n",
    "        Person.__init__(self,name,age,height_cm)\n",
    "        self.GPA = GPA\n",
    "        self.level = level\n",
    "    \n",
    "    def print_name(self,status='regular'):\n",
    "        print(self.name,' STUDENT: ',status)\n",
    "    \n",
    "    def print_GPA(self):\n",
    "        print(self.GPA)\n",
    "    \n",
    "    def print_level(self):\n",
    "        print(self.level)\n",
    "\n",
    "nicole = Student('Nicole Kidman',19,170,3.6,'freshman')\n",
    "\n",
    "nicole.print_name('in absentia')\n",
    "nicole.print_age()\n",
    "nicole.print_height_cm()\n",
    "nicole.print_GPA()\n",
    "nicole.print_level()\n",
    "\n",
    "feet,inches = nicole.height_ftin()\n",
    "print('Height is ',feet,' ft and ',\n",
    "      \"{:.1f}\".format(inches),' in')"
   ]
  },
  {
   "cell_type": "code",
   "execution_count": null,
   "metadata": {
    "collapsed": true
   },
   "outputs": [],
   "source": []
  }
 ],
 "metadata": {
  "kernelspec": {
   "display_name": "Python 3",
   "language": "python",
   "name": "python3"
  },
  "language_info": {
   "codemirror_mode": {
    "name": "ipython",
    "version": 3
   },
   "file_extension": ".py",
   "mimetype": "text/x-python",
   "name": "python",
   "nbconvert_exporter": "python",
   "pygments_lexer": "ipython3",
   "version": "3.6.7"
  }
 },
 "nbformat": 4,
 "nbformat_minor": 2
}
